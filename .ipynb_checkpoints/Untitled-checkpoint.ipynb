{
 "cells": [
  {
   "cell_type": "code",
   "execution_count": 1,
   "id": "86850767-25bd-4e6b-aff5-e24c55b248c7",
   "metadata": {},
   "outputs": [],
   "source": [
    "payload = {\n",
    "    \"pageNumber\": 1,\n",
    "    \"pageSize\": \"100\", \n",
    "    \"sortField\": \"symbol\", \n",
    "    \"sortDirection\": \"ASC\",\n",
    "    \"domain\": \"com\",\n",
    "    \"new_product\": \"all\",\n",
    "    \"pageNumber\": 1,\n",
    "    \"pageSize\": \"25000\",\n",
    "    \"product_country\": [\"CA\",\"MX\",\"US\",\"AT\",\"BE\",\"CZ\",\"DK\",\"EE\",\"FR\",\"DE\",\"HU\",\"IL\",\"IT\",\"LV\",\"LT\",\"NL\",\"NO\",\"PL\",\"PT\",\"ES\",\"SE\",\"CH\",\"GB\",\"AU\",\"HK\",\"IN\",\"JP\",\"SG\",\"KR\",\"TW\"],\n",
    "    \"product_symbol\": \"\",\n",
    "    \"product_type\": [\"STK\", \"ETF\", \"FUT\", \"BOND\", \"CASH\", \"FUND\", \"CMDTY\", \"CRYPTO\"],\n",
    "    \"sortDirection\": \"ASC\",\n",
    "    \"sortField\": \"symbol\"\n",
    "}\n",
    "\n",
    "headers = {\n",
    "    'User-Agent': 'Mozilla/5.0 (Windows NT 10.0; Win64; x64) AppleWebKit/537.36 (KHTML, like Gecko) Chrome/58.0.3029.110 Safari/537.3',\n",
    "    'Accept-Language': 'en-US,en;q=0.9',\n",
    "    'X-Forwarded-For': '203.0.113.195',\n",
    "    'Referer': 'https://www.google.com/'\n",
    "}"
   ]
  },
  {
   "cell_type": "code",
   "execution_count": null,
   "id": "69456ff3-a3cf-4023-8ff7-8ba4f9b82f95",
   "metadata": {},
   "outputs": [
    {
     "name": "stdout",
     "output_type": "stream",
     "text": [
      "Retrieving for page 1\n",
      "Retrieving for page 2\n",
      "Retrieving for page 3\n",
      "Retrieving for page 4\n",
      "Retrieving for page 5\n",
      "Retrieving for page 6\n",
      "Retrieving for page 7\n",
      "Retrieving for page 8\n",
      "Retrieving for page 9\n",
      "Retrieving for page 10\n",
      "Retrieving for page 11\n",
      "Retrieving for page 12\n",
      "Retrieving for page 13\n",
      "Retrieving for page 14\n",
      "Retrieving for page 15\n",
      "Retrieving for page 16\n",
      "Retrieving for page 17\n",
      "Retrieving for page 18\n",
      "Retrieving for page 19\n",
      "Retrieving for page 20\n",
      "Retrieving for page 21\n",
      "Retrieving for page 22\n",
      "Retrieving for page 23\n",
      "Retrieving for page 24\n",
      "Retrieving for page 25\n",
      "Retrieving for page 26\n",
      "Retrieving for page 27\n",
      "Retrieving for page 28\n",
      "Retrieving for page 29\n",
      "Retrieving for page 30\n",
      "Retrieving for page 31\n"
     ]
    }
   ],
   "source": [
    "for i in range(1, 1000):\n",
    "    print(f\"Retrieving for page {i}\")\n",
    "    payload[\"pageNumber\"] = i\n",
    "    pd.DataFrame(requests.post(\n",
    "        \"https://www.interactivebrokers.com/IBSales/servlet/exchange?apiPath=getProductsByFilters\",\n",
    "        json = payload,\n",
    "        headers = headers,\n",
    "    ).json()).to_csv(f\"scraped-data/{i}.csv\", index = False)"
   ]
  },
  {
   "cell_type": "code",
   "execution_count": null,
   "id": "86a5beac-6098-4f84-8894-580d110bdb7a",
   "metadata": {},
   "outputs": [],
   "source": []
  }
 ],
 "metadata": {
  "kernelspec": {
   "display_name": "Python 3 (ipykernel)",
   "language": "python",
   "name": "python3"
  },
  "language_info": {
   "codemirror_mode": {
    "name": "ipython",
    "version": 3
   },
   "file_extension": ".py",
   "mimetype": "text/x-python",
   "name": "python",
   "nbconvert_exporter": "python",
   "pygments_lexer": "ipython3",
   "version": "3.9.13"
  }
 },
 "nbformat": 4,
 "nbformat_minor": 5
}
